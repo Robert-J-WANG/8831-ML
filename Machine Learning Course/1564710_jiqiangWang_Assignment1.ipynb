{
 "cells": [
  {
   "cell_type": "code",
   "execution_count": null,
   "metadata": {},
   "outputs": [],
   "source": [
    "import pandas as pd\n",
    "import numpy as np\n",
    "import matplotlib.pyplot as plt\n",
    "from mpl_toolkits.mplot3d import Axes3D\n",
    "from sklearn import linear_model\n",
    "from sklearn import preprocessing\n",
    "from sklearn import metrics\n",
    "\n",
    "# Setting the seed for the random number generator\n",
    "\n",
    "# 2. my student ID is 1564710, so I set the random seed as 10\n",
    "np.random.seed(10)\n",
    "\n",
    "# Generate random data points\n",
    "# 7. there are 100 samples\n",
    "num_samples = 100\n",
    "# 3. there are 2 features\n",
    "feature_1 = np.random.uniform(-10, 10, num_samples)\n",
    "feature_2 = np.random.uniform(-10, 10, num_samples)\n",
    "\n",
    "# print(feature_1)\n",
    "# print(feature_2) \n",
    "\n",
    "# Generate target variable based on a polynomial relationship with some added noise\n",
    "target = 0.5*feature_1**2 + 2*feature_1*feature_2 - 3*feature_2 + 5 \n",
    "+ np.random.normal(0, 5, num_samples)\n",
    "\n",
    "# Combine into a DataFrame\n",
    "\n",
    "# 4. predicting y is a supervised learning problem \n",
    "# because my dataset is a labeled dataset, I know the values of both the features\n",
    "# ('Feature_1' and 'Feature_2') and the target variable ('Target').\n",
    "\n",
    "data_regression = pd.DataFrame({ \n",
    "'Feature_1': feature_1,\n",
    "'Feature_2': feature_2,\n",
    "'Target': target\n",
    "})\n",
    "data_regression.head()\n"
   ]
  },
  {
   "cell_type": "code",
   "execution_count": null,
   "metadata": {},
   "outputs": [],
   "source": [
    "# Visualizing the dataset in a 3D scatter plot since we have two features and one target\n",
    "fig = plt.figure(figsize=(10, 8))\n",
    "ax = fig.add_subplot(111, projection='3d')\n",
    "# Scatter plot of the features and target\n",
    "ax.scatter(data_regression['Feature_1'], data_regression['Feature_2'],\n",
    "data_regression['Target'], c='blue', marker='o')\n",
    "ax.set_xlabel('Feature 1')\n",
    "ax.set_ylabel('Feature 2')\n",
    "\n",
    "# 5. The z-axis represents the label ( target variable 'Target')\n",
    "ax.set_zlabel('Target')\n",
    "plt.title('3D Visualization of Regression Data Points')\n",
    "plt.show()\n",
    "\n",
    "# 6. This is a regression problem because the goal is to predict\n",
    "# a continuous numerical value ('Target'), \n",
    "# rather than classifying inputs into discrete categories.\n",
    "\n",
    "\n"
   ]
  },
  {
   "cell_type": "code",
   "execution_count": null,
   "metadata": {},
   "outputs": [],
   "source": [
    "from sklearn.model_selection import train_test_split\n",
    "\n",
    "# Splitting the data into features (X) and target variable (y)\n",
    "X = data_regression[['Feature_1', 'Feature_2']]\n",
    "y = data_regression['Target']\n",
    "\n",
    "# Splitting the data into approximately 80% training and 20% testing sets\n",
    "X_train, X_test, y_train, y_test = train_test_split(X, y, test_size=0.2, random_state=42)\n",
    "\n",
    "# Checking the shapes of the training and testing sets\n",
    "print(\"Training set shape - X:\", X_train.shape, \" y:\", y_train.shape)\n",
    "print(\"Testing set shape - X:\", X_test.shape, \" y:\", y_test.shape)"
   ]
  }
 ],
 "metadata": {
  "kernelspec": {
   "display_name": "Python 3",
   "language": "python",
   "name": "python3"
  },
  "language_info": {
   "codemirror_mode": {
    "name": "ipython",
    "version": 3
   },
   "file_extension": ".py",
   "mimetype": "text/x-python",
   "name": "python",
   "nbconvert_exporter": "python",
   "pygments_lexer": "ipython3",
   "version": "3.12.2"
  }
 },
 "nbformat": 4,
 "nbformat_minor": 2
}
